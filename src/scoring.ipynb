{
 "cells": [
  {
   "cell_type": "code",
   "execution_count": 11,
   "metadata": {},
   "outputs": [],
   "source": [
    "import torch\n",
    "import torch.nn as nn\n",
    "from torch.utils.data import DataLoader\n",
    "from pose_dataset import PoseData"
   ]
  },
  {
   "cell_type": "code",
   "execution_count": 2,
   "metadata": {},
   "outputs": [],
   "source": [
    "INPUT_SIZE = 33 * 3\n",
    "HIDDEN_SIZE = 64\n",
    "NUM_LAYERS = 2 # number of RNNs to stack\n",
    "NUM_CLASSES = 9 # number of categories\n",
    "\n",
    "LEARNING_RATE = 0.1"
   ]
  },
  {
   "cell_type": "code",
   "execution_count": 3,
   "metadata": {},
   "outputs": [],
   "source": [
    "TIME_DIM = 0\n",
    "BATCH_DIM = 1\n",
    "COORD_DIM = 2"
   ]
  },
  {
   "cell_type": "code",
   "execution_count": null,
   "metadata": {},
   "outputs": [],
   "source": [
    "class PoseScoringModel(nn.Module):\n",
    "    def __init__(self, input_size, hidden_size, num_layers, num_classes):\n",
    "        super(PoseScoringModel, self).__init__()\n",
    "        self.num_layers = num_layers\n",
    "        self.hidden_size = hidden_size\n",
    "        self.rnn = nn.RNN(input_size, hidden_size, num_layers, batch_first=True)\n",
    "        self.fc = nn.Linear(hidden_size, num_classes)\n",
    "        self.sigmoid = nn.Sigmoid()\n",
    "\n",
    "    def forward(self, X):\n",
    "        h0 = torch.zeros(self.num_layers, X.size(BATCH_DIM), self.hidden_size).to(device)\n",
    "\n",
    "        out, _ = self.rnn(X, h0)\n",
    "        # out: batch x time x hidden\n",
    "        out = out[:, -1, :]\n",
    "        # out: batch x hidden\n",
    "        out = self.fc(out)\n",
    "        out = self.sigmoid(out)\n",
    "        return out"
   ]
  },
  {
   "cell_type": "code",
   "execution_count": null,
   "metadata": {},
   "outputs": [],
   "source": [
    "model = PoseScoringModel(INPUT_SIZE, HIDDEN_SIZE, NUM_LAYERS, NUM_CLASSES)"
   ]
  },
  {
   "cell_type": "code",
   "execution_count": 8,
   "metadata": {},
   "outputs": [],
   "source": [
    "loss = nn.CrossEntropyLoss()\n",
    "optimizer = torch.optim.Adam(model.parameters(), lr = LEARNING_RATE)"
   ]
  },
  {
   "cell_type": "code",
   "execution_count": null,
   "metadata": {},
   "outputs": [],
   "source": [
    "NUM_WORKERS = 2"
   ]
  },
  {
   "cell_type": "code",
   "execution_count": null,
   "metadata": {},
   "outputs": [],
   "source": [
    "data = PoseData(\"PoseData\")\n",
    "data.shuffle()\n",
    "\n",
    "train_data = data[:len(data) * .9]\n",
    "test_data = data[len(data) * .9:]\n",
    "\n",
    "train_dataloader = DataLoader(train_data, batch_size=32, shuffle=True)\n",
    "test_dataloader = DataLoader(test_data, batch_size=32, shuffle=True)\n",
    "# train_dataloader = DataLoader(train_data, batch_size=32, shuffle=True, num_workers=NUM_WORKERS, pin_memory=True)\n",
    "# test_dataloader = DataLoader(test_data, batch_size=32, shuffle=True, num_workers=NUM_WORKERS, pin_memory=True)"
   ]
  },
  {
   "cell_type": "code",
   "execution_count": null,
   "metadata": {},
   "outputs": [
    {
     "name": "stdout",
     "output_type": "stream",
     "text": [
      "Epoch [1/10], Loss: 2.2096\n",
      "Epoch [2/10], Loss: 2.1685\n",
      "Epoch [3/10], Loss: 2.2148\n",
      "Epoch [4/10], Loss: 2.3354\n",
      "Epoch [5/10], Loss: 2.1534\n",
      "Epoch [6/10], Loss: 2.3413\n",
      "Epoch [7/10], Loss: 2.3165\n",
      "Epoch [8/10], Loss: 2.3018\n",
      "Epoch [9/10], Loss: 2.3047\n",
      "Epoch [10/10], Loss: 2.3223\n"
     ]
    }
   ],
   "source": [
    "import os\n",
    "from sklearn.model_selection import KFold\n",
    "\n",
    "EPOCHS = 10  # Number of epochs for training\n",
    "model.train()  # Set the model to training mode\n",
    "\n",
    "# Create a directory to save snapshots if it doesn't exist\n",
    "os.makedirs(\"snapshots\", exist_ok=True)\n",
    "# Number of splits for k-fold cross-validation\n",
    "k_folds = 5\n",
    "kf = KFold(n_splits=k_folds, shuffle=True)\n",
    "\n",
    "# Convert dataset to a tensor for splitting\n",
    "data_tensor = torch.tensor(data)\n",
    "\n",
    "for fold, (train_idx, val_idx) in enumerate(kf.split(data_tensor)):\n",
    "    print(f\"Fold {fold + 1}/{k_folds}\")\n",
    "    \n",
    "    # Split data into training and validation sets\n",
    "    train_subset = data_tensor[train_idx]\n",
    "    val_subset = data_tensor[val_idx]\n",
    "    \n",
    "    train_dataloader = DataLoader(train_subset, batch_size=32, shuffle=True)\n",
    "    val_dataloader = DataLoader(val_subset, batch_size=32, shuffle=False)\n",
    "    \n",
    "    for epoch in range(EPOCHS):\n",
    "        model.train()\n",
    "        for i, (inputs, targets) in enumerate(train_dataloader):\n",
    "            # Forward pass\n",
    "            outputs = model(inputs)\n",
    "            loss_value = loss(outputs, targets)\n",
    "\n",
    "            # Backward pass and optimization\n",
    "            optimizer.zero_grad()\n",
    "            loss_value.backward()\n",
    "            optimizer.step()\n",
    "\n",
    "            if i % 10 == 0:\n",
    "                print(f\"Fold [{fold + 1}/{k_folds}], Epoch [{epoch + 1}/{EPOCHS}], \"\n",
    "                      f\"Step [{i + 1}/{len(train_dataloader)}], Loss: {loss_value.item():.4f}\")\n",
    "\n",
    "        # Evaluate on validation set\n",
    "        model.eval()\n",
    "        val_loss = 0\n",
    "        correct = 0\n",
    "        total = 0\n",
    "        with torch.no_grad():\n",
    "            for inputs, targets in val_dataloader:\n",
    "                outputs = model(inputs)\n",
    "                val_loss += loss(outputs, targets).item()\n",
    "                _, predicted = torch.max(outputs, 1)\n",
    "                total += targets.size(0)\n",
    "                correct += (predicted == targets).sum().item()\n",
    "        \n",
    "        val_accuracy = 100 * correct / total\n",
    "        print(f\"Fold [{fold + 1}/{k_folds}], Epoch [{epoch + 1}/{EPOCHS}], \"\n",
    "              f\"Validation Loss: {val_loss:.4f}, Validation Accuracy: {val_accuracy:.2f}%\")\n",
    "        # Save a snapshot of the model at each epoch\n",
    "        torch.save(model.state_dict(), f\"snapshots/model_fold{fold + 1}_epoch{epoch + 1}.pth\")"
   ]
  },
  {
   "cell_type": "code",
   "execution_count": null,
   "metadata": {},
   "outputs": [],
   "source": [
    "model.eval()  # Set the model to evaluation mode\n",
    "correct = 0\n",
    "total = 0\n",
    "eval_loss = 0\n",
    "\n",
    "with torch.no_grad():  # Disable gradient computation for evaluation\n",
    "    for inputs, targets in test_dataloader:\n",
    "        # Forward pass\n",
    "        outputs = model(inputs)\n",
    "        eval_loss += loss(outputs, targets).item()\n",
    "\n",
    "        # Get predictions and calculate accuracy\n",
    "        _, predicted = torch.max(outputs, 1)\n",
    "        total += targets.size(0)\n",
    "        correct += (predicted == targets).sum().item()\n",
    "\n",
    "accuracy = 100 * correct / total\n",
    "print(f\"Evaluation Loss: {eval_loss:.4f}, Accuracy: {accuracy:.2f}%\")"
   ]
  }
 ],
 "metadata": {
  "kernelspec": {
   "display_name": "catapult",
   "language": "python",
   "name": "python3"
  },
  "language_info": {
   "codemirror_mode": {
    "name": "ipython",
    "version": 3
   },
   "file_extension": ".py",
   "mimetype": "text/x-python",
   "name": "python",
   "nbconvert_exporter": "python",
   "pygments_lexer": "ipython3",
   "version": "3.12.9"
  }
 },
 "nbformat": 4,
 "nbformat_minor": 2
}
